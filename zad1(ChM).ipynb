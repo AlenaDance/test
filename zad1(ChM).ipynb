(* Content-type: application/vnd.wolfram.mathematica *)

(*** Wolfram Notebook File ***)
(* http://www.wolfram.com/nb *)

(* CreatedBy='Mathematica 11.0' *)

(*CacheID: 234*)
(* Internal cache information:
NotebookFileLineBreakTest
NotebookFileLineBreakTest
NotebookDataPosition[       158,          7]
NotebookDataLength[     62231,       1305]
NotebookOptionsPosition[     59758,       1234]
NotebookOutlinePosition[     60103,       1249]
CellTagsIndexPosition[     60060,       1246]
WindowFrame->Normal*)

(* Beginning of Notebook Content *)
Notebook[{
Cell[BoxData[{
 RowBox[{
  RowBox[{
   RowBox[{"f", "[", "x_", "]"}], " ", ":=", " ", 
   RowBox[{
    RowBox[{"x", "^", "2"}], "+", 
    RowBox[{"4", 
     RowBox[{"Sin", "[", "x", "]"}]}], "-", "1"}]}], 
  ";"}], "\[IndentingNewLine]", 
 RowBox[{"Plot", "[", 
  RowBox[{
   RowBox[{"f", "[", "x", "]"}], ",", 
   RowBox[{"{", 
    RowBox[{"x", ",", 
     RowBox[{"-", "2"}], ",", "2"}], "}"}]}], 
  "]"}], "\[IndentingNewLine]"}], "Input",
 CellChangeTimes->{{3.886480876904902*^9, 3.8864809737374325`*^9}}],

Cell[CellGroupData[{

Cell[BoxData[{
 GraphicsBox[{{{}, {}, 
    TagBox[
     {RGBColor[0.368417, 0.506779, 0.709798], AbsoluteThickness[1.6], Opacity[
      1.], LineBox[CompressedData["
1:eJwt2Hk0VP/7AHD7zFyFlDCRmkoqFZMUlXs/LaKQJLRYQn2lVCRrSdKuRBRC
SinLp5RkCc9bSClaLFmzM7aZO2OMpZjf/Zzz++ue1znPved5v5/n/bzPuYtd
T9sclZKQkJCRlJD477kGnz8oFotBL/t6aqtbD5yeXHJ9ckoMSmFl7qWJPZCd
o689OiYGix+XDsTU9wBbx9K1b0gMukbjDTI7e2HDnPDmr7/EYD1MFyqu6AOi
m18V/0oMHIMUi+qBfrC5Vp25zlkMOs3Grk2OQ+D/LdzrfyUzsGgZfwGfxoe6
OvnB0iPTsD1Okjb8dRw00el5GzT+AmHxtGF12DTkniiXVWybghgJwyfcrZLI
JUKfbAqbBK/m4tEVz6VR0Nvoq9UXJgEbrnTyfiWNYltHNUoDJqE/IlXqbZ40
qtJ9Z/7i1CTIOxYIV36SRuuqjVP9Dk5CkWbDpXaONJJT2G43lz0JecWxm91W
yKCsSLsii84JCNHuXFmfJoMmooOvAz4BzYuyM9zuyaJ+jdJBU+MJsH7Qzld6
KIsa0uQsawwmgPalMin/iSzKKYya07ZiAlq/zl46/loWnep6njA1dwLOH4kb
1vsui7r167LWc8bhSbV96AN5OVTzXfdH5t1xqLvKcdIPkUOpCr/V4zpFcMPx
6edkGxqKPoTTjFpF0KFk0PDJgYbCXqQImxpEYKuw5vKIEw25bnX7tuCrCIoe
zgHtEzTE8uOEP3ongvSzYWUOl2noSZuAl3ZLBDp2+cvfv6GhlCzax9z1Isi1
E+QFzaaju5MeOXZ6Ini1eHLNpDIdhZpWpYyvFMHB0hwLHzU6cumICDZaJALB
FZ0LtkvoSGuesn4xJgLPt675jRvpKDlYI7G8fQwSj0x/6XClo8Rd+j61N8Yg
rbRuAf8NHS2V31X1PXwMgo4v/+udR0eZX1xZNRfHoDm2dxP3PR0VWsT8/HRu
DBKKrjY3ltNRk9U4u+TIGGRUJyb4NdDR/H3Foy+MxsC4V/VA3QQdRR4yPxcy
IIS7p6b8mMYMNF/DtTq4Rwi+8X/yaCYMlNwatCywXQibV81yIf9hoJeOWfVn
64WAidz6cswZ6KuzouHxUiEoDhjVSh9gILp7vWhfvBDeWTZ4VPoxUNjJIwEr
zIXwWmvOqfaXDPT7jlNi4TYhrBGXWoe9YSDj14fQbhMhkGUT9VrvGEgwtp9+
ap0QQqMDP+8qZqAjF3fFvdGk8lHwdHb5wkBE9Lr8TYJR2Dj7eNLNPgaayZOd
sHw4Css26az8rYahg81SGu2xo5DNmdZqWIChd3/F+Jm7o2Bouqri00IMnfpn
6lr0lVEQGm3VSl6KobYqruqv06OQHH5iIUMPQ0Vtvza4bKe+P2yV0bEDQ8HS
Gf4+IwKwabRjxntR78c7yblwBOCUlQ3oNIZc186NtewWQPaxom/d3hjadej8
G50mAVzw8NPX8MOQWo7VyO9yAczb5yxnF4Kht66jrrsTBdBXa2vFvY2hFxPP
+RsfCGCweLj6aySGHt45HKodLQDBrYiStCgMhRVWJEleF4D0+8tCi1gM7VWO
a8w7KwBNC1Timoghbulmq6W7BdD1bUDnbTqGuuz5rXNMBSDx48CgeSaG6kee
nRATArB6eHZJSxa1PnXFG82GlPfbz/BeYeiWd2fZXZYA2La1rt25GNJZfNVo
epIPF63W7eQjDGnkGX8aFPLBfaDmnckHDCla8uwaeXwIOi357FoZhkQBDr45
vXxgl5Az8h8xVP595avjP/jAMjyd+7sKQ0dCvy1teMGHm/2xUVm1GLJremTS
lsqHjlI9uX/rqP1in3HoSeZD/lJ8dXo9hgx6lCIEMXwIMzgbE/MLQ3Qzm1GF
S3yYZXimdkMLhqZTWLPnn+eDp15bv0orhgSTAm1Nfz68nd7yhke5JfPewVVe
fJD7J8Xz/m8MvVSsL915gA8pEQf9sjsxlOrxrMXKlg/GR3+ZnuzCUFzpubH9
e/ggv7fp+5JuDF06O3+F+w4+PJUznnu1B0O2v+zvhurzYfNyTSfVfgyZ6+lk
XNPlw9qZU7TXlE1uTJTdWc4HDzrHy5RD7d+m+PFETT7YlC/zdR/A0J/kZqcC
Bh/u9eT7eA1hiBzPCEAyfJC6uUq5l3KPdXB0pZgElkWAj8MwhmqkND7Wj5Ew
ExXizx7BUNmh4fZWkgRrwXLNeMr5b4smu4dI8NC5deUP5SfHHFcLOkmYl3Uk
JYeLoQeweudkKwkaQx/3MXgYilCbcZFoJKGw6/OXg5RDvWuCaLUk1Oj30F9Q
PleVHKNQQ0JiQaQ8n7LnktMvVT6TUJRkWreexJDTefyTRjkJCtsvu/lRNlvT
8WdlIQmShQG/BilvuZatws4l4UTK8uKFfAyxO0LXGmWTEO5ndsKKsrbRXnMi
kwTusF1XIOUF0YvddqaRYCGqYT2mrDTEP2/1mATDSt3V5ZRltn+4vz+RBL2G
YcluypOJ0dmHH1D5tdx6PE2ZO+Za5RZNQvaPq7PmCTDUbbWux/M2CceEB7dp
U258Lj3jfZ2Es6VXTA0oV0vUqQZeJsF4Iny+CeUPB57qh4aQUBLfkLONct4b
393XAklI4kws3EE5S37H0Tu+JEx6eDpspZzirnIx9jQJ5zrSXTZRji3ujUv0
pOplZ7hRj7JTQELIhqOUpXRdtCjrrNvj/tOZBBnd6wkMyvwR6V1eB6l81bn9
XCr/whf5a+n7qf05IWn+jfJlNy+V1D3UejWOlWRQtljI+rNlFwkvQpHZJcoq
TQ0djdtJUDPL5dhQ/n3v1sezOAmfggeStSg/tyKyFIxJULoodbKfqscZxlhU
ugEJJopp1hmUjcrT/bevJeHutiBLD8pSF50c21eQMOf2MrfFlL8Yzd0WtJSE
qHdW0fVU/WOElToqWiTc6UlsCae83FNfuGseCROPTKGO6i9yaV9TrwIJiwwF
B89RLmhPgFAGCcwu17lz/uu/DPp8r2kejLhtaDOi+nPlIp/OJwIeiGdxeR+p
/i6Kbclq7OfBGh9F1h7KHaEvt23/yQPR4KZ+a+o8+IhUFYMqedAWnxhcNUj1
w8lLza+KeLBv01w2TnmFva33guc8+HmYT2NS58tn9VSyIJgHx9MtPWP7qPhU
N08dbx7EKWxkcXoxdF+ter3TMR4Yn3kkaUj5vXTK18/WPMgxfmRURp13meYd
UynLeDDwLOJxagcVv+dVRQOTB0KTqy++tVP1rFCLmqXEg1U9ga0iap5YZg8t
D5jigtbheTWGbVT81aj9e75xweRgxND5Jir+79SiK+VcmGNW5RXWSNXb2324
sIALb9fGsi5T86z98IbL2k+54Nj4WNuv/r9+acueDuBC0IRDFusHFd+uMyuL
xYWdFl6W9ysxdH6z5L8Jalwwy1iz/yg1X7fEN1neUOBCadf/NupVYAjZ3Iw8
NjUCqQsS7xVQ87myYkh58c8RCDgS9W9CMYbqMl+q3780Ai3PsoX331D50q8V
hvuPQKsE/c+S1xiyP+p86KzXCJTYOPZlUfdB80KlJOsDI1Cnc/LUG+q+6Izy
XiSvT/m10v6INOr8+RssD+0Yhswgkcz5eAxl1836dKphGPga2k8rH2DIW7/X
w/HrMFTmq7MV72NIOBibYZw/DOVSlRrR0dQ8dBxfPRY5DJNPk03+d4ua79sL
DTxxysXriT3nMbREidhqmzwETsvcnjMPYeiOXmeQ570hmMqQeZ3rgKEJ67Cc
0OtDULhNU97CDkNfo8qX/uszBDN8qbeeezHkO9ecJrdzCNb7tvFO78TQx/k2
X/N4gxA/XlWVwKbmm6a73YJ/BkHh7UmRvyy1P1tkI/UNByHzQdCrEClqnjul
Ve5cNQjcQdW6UDEDzX3E2eirMgi1zoFu/pMMVLTIa0H1wACopBvkrB5hIIWl
fh0h0QNw4seFZqhloDcrr3t2dXNgpx8REJrEQFo/XApWNXHgOHZrVC6BgSL8
jejnajigcp696MZ9BjpaPviMVsCBR4pyUaGRDKTmZNmpe4cDagd+cjZdYqAL
UcoO/hs5kBRxgd3rxkBmE4k7Zt3uh70rUszo2gzUXvF6kaFhHxylsY0+JNHR
+X2T2zfq9sG6sL/Lb8bTkVoncdyY1Qfrlc1vWMXSkfXfb69NFPpgOMQj7WsE
HSE2d+vOvl64A1+ck4PpKOXRyqMO93tht69WQJwDHbkGpqYHiXog5Hb73WFF
OurVjWXDu24IYllE4r40NCck3XCNZCcs/GxwoU0oi3QNebrPRlth4x5b36QD
Mujy9pHvBQG/wNewfo3UMSmkYvvy7gHVn6Awr0/V2lwCvRFVKH5aWgU1m9Me
W1j/hWctvbcHwkvAzZqu7O46Do57Nd62uD2FfRH/7P5+RQAFWHD9h3Op+CGa
UricKlXnLsmFlxwARwlF73oq2mEJ+X7S+MNnnNDJfF4YWA7mqU3VVg4/8ZTl
0O9m+gXfYaksPZb7C58l3xofWtSFRzr/CtXLa8WLflwO1RsfwSutNGdbK3fi
PdNLilPUx/CRxSohPxO68XnHlvVX1Uzh53xXHYmc34fPlZJmda+VIH61Ktkc
+8TB/Rzs1axWSxMugZv7aRZDeC5qrlAfkSXKVm24WSbLxa8qGdtfa6IT2owi
zlMzEr9rVZFDC5cnNItO7JC9zsfJtSHrbygqEBJTUuk+XQKclZ+LL3FSIsb3
FjtVLBPiJpLdH4Ki5xAtBs4LloWP4baErXNcrTJxxl5pDqtVhPNVNpZgkvMI
9ZgeBxnNCfxj+tRI6GwV4uWhlOejAZN42CGzGD/WfMJ+y0WzT8VT+MWsvLh3
qqrEaycvlvHfP7jxY2j9+EeVmMC2SRfsn8ZV+8qqXvaqETY/Nhlqxs3g7FmK
irk56gS2Sb60KGkG339UQF+Xp06UPm3efTh1Bp/Xt2tJdqE6oRcQeOThyxn8
sdLuwuel6oSCVl6EesUMPlPBCoj4pk58PsnuVhHM4Hz2Rw/dIXWCoK+4q2Ah
xgtPRDVULmYSE94TzJd7xfjoqmv2K5cxiVctlc8s7cV48vp2iQgdJrHw1bH3
Ea5i/ItMWbXFWibxd//TPixQjB+2Rfblm5lEXqrWFlqaGGezrnjcsmcSp2bz
KtMyxfgVvfjIjoNMQtu/xMb0tRjvWeHYbeDEJGJ2OXpcKRLjf1lKyi3uTMKH
n3BPulaMP0wYuafpwyRWHvJcmNooxrNadumcPMckOsuN0rf+FuPurjFDBQFM
wjquseTSgBjvyFSQ2HeRSdClXpgv5onxfPaPvclhTAJO+NchoRi3uZZay7nC
JPzqTZ1dpsT4Qua3K+wbTOL//xfg3jFJHsERTOL/AH5unQs=
       "]]},
     Annotation[#, "Charting`Private`Tag$2156#1"]& ]}, {}, {}},
  AspectRatio->NCache[GoldenRatio^(-1), 0.6180339887498948],
  Axes->{True, True},
  AxesLabel->{None, None},
  AxesOrigin->{0, 0},
  DisplayFunction->Identity,
  Frame->{{False, False}, {False, False}},
  FrameLabel->{{None, None}, {None, None}},
  FrameTicks->{{Automatic, Automatic}, {Automatic, Automatic}},
  GridLines->{None, None},
  GridLinesStyle->Directive[
    GrayLevel[0.5, 0.4]],
  ImagePadding->All,
  Method->{
   "DefaultBoundaryStyle" -> Automatic, "DefaultMeshStyle" -> 
    AbsolutePointSize[6], "ScalingFunctions" -> None, 
    "CoordinatesToolOptions" -> {"DisplayFunction" -> ({
        (Part[{{Identity, Identity}, {Identity, Identity}}, 1, 2][#]& )[
         Part[#, 1]], 
        (Part[{{Identity, Identity}, {Identity, Identity}}, 2, 2][#]& )[
         Part[#, 2]]}& ), "CopiedValueFunction" -> ({
        (Part[{{Identity, Identity}, {Identity, Identity}}, 1, 2][#]& )[
         Part[#, 1]], 
        (Part[{{Identity, Identity}, {Identity, Identity}}, 2, 2][#]& )[
         Part[#, 2]]}& )}},
  PlotRange->{{-2, 2}, {-3.368295900317277, 6.6371895166567905`}},
  PlotRangeClipping->True,
  PlotRangePadding->{{
     Scaled[0.02], 
     Scaled[0.02]}, {
     Scaled[0.05], 
     Scaled[0.05]}},
  Ticks->{Automatic, Automatic}], "\[IndentingNewLine]", 
 RowBox[{
  RowBox[{
   RowBox[{"fi1", "[", "x_", "]"}], ":=", 
   RowBox[{"Sqrt", "[", 
    RowBox[{
     RowBox[{"4", 
      RowBox[{"Sin", "[", "x", "]"}]}], "-", "1"}], "]"}]}], 
  ";"}], "\[IndentingNewLine]", 
 RowBox[{
  RowBox[{
   RowBox[{"fi2", "[", "x_", "]"}], ":=", 
   RowBox[{"-", 
    RowBox[{"Sqrt", "[", 
     RowBox[{
      RowBox[{"4", 
       RowBox[{"Sin", "[", "x", "]"}]}], "-", "1"}], "]"}]}]}], 
  ";"}], "\[IndentingNewLine]", 
 RowBox[{
  RowBox[{"Plot", "[", 
   RowBox[{
    RowBox[{"{", 
     RowBox[{"x", ",", " ", 
      RowBox[{"fi1", "[", "x", "]"}]}], "}"}], ",", 
    RowBox[{"{", 
     RowBox[{"x", ",", 
      RowBox[{"-", "2"}], ",", "2"}], "}"}]}], "]"}], 
  "\[IndentingNewLine]"}], "\[IndentingNewLine]"}], "Input",
 CellChangeTimes->{{3.886480987449216*^9, 3.8864809874702153`*^9}, {
  3.886481025127366*^9, 3.8864811507945423`*^9}, {3.8864813961805563`*^9, 
  3.8864813985626926`*^9}, {3.8864814495546036`*^9, 3.8864814629633694`*^9}}],

Cell[BoxData[
 GraphicsBox[{{{}, {}, 
    TagBox[
     {RGBColor[0.368417, 0.506779, 0.709798], AbsoluteThickness[1.6], Opacity[
      1.], LineBox[CompressedData["
1:eJwt2Hk0VP/7AHD7zFyFlDCRmkoqFZMUlXs/LaKQJLRYQn2lVCRrSdKuRBRC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       "]]},
     Annotation[#, "Charting`Private`Tag$2156#1"]& ]}, {}, {}},
  AspectRatio->NCache[GoldenRatio^(-1), 0.6180339887498948],
  Axes->{True, True},
  AxesLabel->{None, None},
  AxesOrigin->{0, 0},
  DisplayFunction->Identity,
  Frame->{{False, False}, {False, False}},
  FrameLabel->{{None, None}, {None, None}},
  FrameTicks->{{Automatic, Automatic}, {Automatic, Automatic}},
  GridLines->{None, None},
  GridLinesStyle->Directive[
    GrayLevel[0.5, 0.4]],
  ImagePadding->All,
  Method->{
   "DefaultBoundaryStyle" -> Automatic, "DefaultMeshStyle" -> 
    AbsolutePointSize[6], "ScalingFunctions" -> None, 
    "CoordinatesToolOptions" -> {"DisplayFunction" -> ({
        (Part[{{Identity, Identity}, {Identity, Identity}}, 1, 2][#]& )[
         Part[#, 1]], 
        (Part[{{Identity, Identity}, {Identity, Identity}}, 2, 2][#]& )[
         Part[#, 2]]}& ), "CopiedValueFunction" -> ({
        (Part[{{Identity, Identity}, {Identity, Identity}}, 1, 2][#]& )[
         Part[#, 1]], 
        (Part[{{Identity, Identity}, {Identity, Identity}}, 2, 2][#]& )[
         Part[#, 2]]}& )}},
  PlotRange->{{-2, 2}, {-3.368295900317277, 6.6371895166567905`}},
  PlotRangeClipping->True,
  PlotRangePadding->{{
     Scaled[0.02], 
     Scaled[0.02]}, {
     Scaled[0.05], 
     Scaled[0.05]}},
  Ticks->{Automatic, Automatic}]], "Output",
 CellChangeTimes->{{3.8864814457473764`*^9, 3.886481468427687*^9}}],

Cell[BoxData[
 GraphicsBox[{{{}, {}, 
    TagBox[
     {RGBColor[0.368417, 0.506779, 0.709798], AbsoluteThickness[1.6], Opacity[
      1.], LineBox[CompressedData["
1:eJxF1P0vFHAcwPHjMjp5XDTlyOM8zVCdRcYUQxg3RhPntNQ8pG7pzmxC11xN
Y8V2Sa3tjkg7UTI5d55uHkbkocNd7Fyuw3CH0911XLXl8/3hvdd/8HbKKiBe
N8RgMPF/+6dvqO2aXq/nH1qgcWFotMj3H/zdd1TIAI+4LNk6MtCKvjAmRIZJ
laPPW5HEivGWMyQkdYKef4N3AM7MmK71kfdBfG/B8UB7HdiRO2hk8V0LZlb6
K+bLNaD6aTGDH6oGWeaLdkzJHlgf40+ZfqQCy/PINM/oXbAY+5ZK2dgGyaUT
rt+alGBtzwqzPkcBfl7yOPbOeRN0sQwLT3q1DrZ7MXKWpXJwSdB2mkCQgSs+
tQH8T1LQqqSZ4GsgAX0IWz4NO2LwwaWNyS6aELRJ4lRfOTEFtu8JLIZdR8EG
0cqTVToPTE+0/yi6xga7cMWz/YWs0EPPLRs4lKXyQRdFtyaofwQcqzD9suo9
CUaz5sfjU6fAiDhrrKpDCFaRhKV+nWJwKB5vlmAtATecbEqm6qRg4V1vcpWt
DBSKLYnZw3Iws+jCT+PYdXDAO/DxgNEm6H6UK2dHKUA8NzfCiKEEMVrDZsry
NvgrsSdD4LYLis6STrnRVeDtFEsrZ/EeaFfzI/UIXg1y0l6/2aFpwJSQ+1HD
PVqwLSPfOUj3G1TjLmK7kvdB4tdgAp55AOKCTfu4L5F97IXLV1lIP1oR+QUH
ae7YWWknQI7kBUhttpFhJp7V5rF6UH1HfZKTiGwVDTXEpSAdWrO7K7OQumS2
DFeE7GQ5hhg3Im+ZbQ01tiDdqTxiZBuyJib95kMukqKse4adRnql5Tiw5pCS
wfPN4YvIBOYcr2wVaWLYFO20heTnUmd6d5H3ZiNJmVrk/4+BfwCiaqYc
       "]]},
     Annotation[#, "Charting`Private`Tag$7646#1"]& ], 
    TagBox[
     {RGBColor[0.880722, 0.611041, 0.142051], AbsoluteThickness[1.6], Opacity[
      1.], LineBox[CompressedData["
1:eJwVl3k4VV0UxgmRRElKUZSUkiRDA16hKFGERCoaDEVRhKJShEIKCZGhUF80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       "]]},
     Annotation[#, "Charting`Private`Tag$7646#2"]& ]}, {}, {}},
  AspectRatio->NCache[GoldenRatio^(-1), 0.6180339887498948],
  Axes->{True, True},
  AxesLabel->{None, None},
  AxesOrigin->{0, 0},
  DisplayFunction->Identity,
  Frame->{{False, False}, {False, False}},
  FrameLabel->{{None, None}, {None, None}},
  FrameTicks->{{Automatic, Automatic}, {Automatic, Automatic}},
  GridLines->{None, None},
  GridLinesStyle->Directive[
    GrayLevel[0.5, 0.4]],
  ImagePadding->All,
  Method->{
   "DefaultBoundaryStyle" -> Automatic, "DefaultMeshStyle" -> 
    AbsolutePointSize[6], "ScalingFunctions" -> None, 
    "CoordinatesToolOptions" -> {"DisplayFunction" -> ({
        (Part[{{Identity, Identity}, {Identity, Identity}}, 1, 2][#]& )[
         Part[#, 1]], 
        (Part[{{Identity, Identity}, {Identity, Identity}}, 2, 2][#]& )[
         Part[#, 2]]}& ), "CopiedValueFunction" -> ({
        (Part[{{Identity, Identity}, {Identity, Identity}}, 1, 2][#]& )[
         Part[#, 1]], 
        (Part[{{Identity, Identity}, {Identity, Identity}}, 2, 2][#]& )[
         Part[#, 2]]}& )}},
  PlotRange->{{-2, 2}, {-1.999999918367347, 1.999999918367347}},
  PlotRangeClipping->True,
  PlotRangePadding->{{
     Scaled[0.02], 
     Scaled[0.02]}, {
     Scaled[0.05], 
     Scaled[0.05]}},
  Ticks->{Automatic, Automatic}]], "Output",
 CellChangeTimes->{{3.8864814457473764`*^9, 3.8864814684556847`*^9}}]
}, Open  ]],

Cell[BoxData[""], "Input",
 CellChangeTimes->{{3.886481436445855*^9, 3.886481436453856*^9}}],

Cell[BoxData[""], "Input",
 CellChangeTimes->{{3.886481435698843*^9, 3.886481435707813*^9}}],

Cell[BoxData[""], "Input",
 CellChangeTimes->{{3.886481229098027*^9, 3.8864812291070147`*^9}}],

Cell[BoxData[""], "Input",
 CellChangeTimes->{{3.886481171289714*^9, 3.886481175705967*^9}, 
   3.886481433123666*^9}],

Cell[BoxData[""], "Input",
 CellChangeTimes->{{3.886481219473466*^9, 3.8864812194824653`*^9}}],

Cell[CellGroupData[{

Cell[BoxData[
 RowBox[{"\[IndentingNewLine]", 
  RowBox[{
   RowBox[{
    RowBox[{"a", "=", "0.35"}], ";"}], "\[IndentingNewLine]", 
   RowBox[{
    RowBox[{"b", "=", "1"}], ";"}], "\[IndentingNewLine]", 
   RowBox[{"Plot", "[", 
    RowBox[{
     RowBox[{"Abs", "[", 
      RowBox[{
       RowBox[{"fi1", "'"}], "[", "x", "]"}], "]"}], ",", 
     RowBox[{"{", 
      RowBox[{"x", ",", "a", ",", "b"}], "}"}]}], "]"}], 
   "\[IndentingNewLine]", "\[IndentingNewLine]"}]}]], "Input",
 CellChangeTimes->{{3.8864812063297153`*^9, 3.8864812327062197`*^9}, {
   3.8864812849702044`*^9, 3.8864813176420903`*^9}, 3.8864814379229307`*^9, {
   3.8864814933951073`*^9, 3.886481520170636*^9}, {3.8864815746747484`*^9, 
   3.8864816222834673`*^9}, {3.8864822768358526`*^9, 3.886482276994856*^9}, {
   3.886482339860446*^9, 3.8864823411075172`*^9}}],

Cell[BoxData[
 GraphicsBox[{{{}, {}, 
    TagBox[
     {RGBColor[0.368417, 0.506779, 0.709798], AbsoluteThickness[1.6], Opacity[
      1.], LineBox[CompressedData["
1:eJwV0Hk4lAkAx/FhkjEsCilJadY2rl0S1aZ+b5SKUquydKonkcrY2M0q7ayj
ckvZKZWE0TzC0JJrcyWRWJ6HcZdjvDPG8TpzRLb94/t8/v/qn+U4ucvTaLQD
X/vfo69S/c6fF+GyQ5XG7DMGke6Vl5B+QYSYzjRvw6cMgrayqmzkkgijYvrc
qQQGkXFFonLVVwRPdeNbbZEMQp5txL/FFeHJ0ydlylcYRHacsFmQIEJl4iP5
09sZBNOzyGqwXoT5zIWU+BZFomR5wwxncwsanI1/V16lSOw86F+uqtOKLdaV
FC1LgQgxDFkUDLfifNM7+prIJcRcYVqy7qs2qN7xcYq9SyfCze3CDRLb8YBz
xPkZX55ot9snMfTpQJjN/odFH+WIXbY1t18f7oSaB9f6lZ4c0TN1OsbKogvx
hT4vXX1pxA67Y8p8+geU3+5o069YRF5gY62g/wNORqz/dnXiFww5ZcgJCj6i
stN0vO/pAkwoR8cy224EWPjZE8Xz4LCX7pj+uxuathaRDo2fEWfGkT7X7UF3
Ab366pLPsMlYYWkc3YMX9qGuXhZzUA7et4m30IPjPr5Zrb/MIpf9/QjXvRcn
XH0/P66agWznT/aWol5ovGvrWtSaAc3ouzMe6EOJzrhup/80UkK36pzL6YOC
eXWuqegT3KxbQw/oi8E8HBV0afsnLJSzM3LDxGCtrjC4lzuFDcX5fuScGHPG
QcdbDaZgFjwzHX+uH813+zK9+ZM4nFZpuvF9P4TawuWFxpOgb/9X4YE1CZXq
9Ou0jAncTY64H8gnofXjtqPRWyaQfe1mnYm2BNt6fVssSschEarkVd+UQDOU
pX7fYRwLL3b93DsigTk9pkrYO4Ykw+KHVaelePbCfKHHdwwsTl8Cu0aKbKVl
dUy1MZSp8fZfNRuA0WJUu1/WKGSssKTYpAEsNG+cXbp3FJNLTYUblGRw8Dpr
sbKZQsRJNbewABmI0kn1LFUK8sEptZ5iGVQSA7PYriOIo78e2LR/EAz369rc
9GEIp9el1/4zCKcLzKSbo0PIKDIz6DYYQkFRHU3RbghWYzdsSnlD0PWy77wQ
O4j2IJflEYrD0JJjKun2yHCqr+9RE2cYqTn9L3UIGTj5mTXS7mF8udf+29p7
A3A7ZpgTYD+C/LP86K4pKbxczBxmc0ZQXx75tuKEFHLvfr1ls57CMG+zY0OB
BP7MyzeUIihMsP94XqYvQVKbs0tXJIVw3QKr9WslqBYQG3OiKbzpGhMH60qw
ao8m6RJHoaXELn3P1+9FwcUHBA8ouJvHtDSoSDA/r7Rmj4CCZsfFvIFpElwq
rTjkDQV/3qHdlvUkBCWx8S5vKTjvfb/uYS2JhqgAjkkNhfLMXXpyNST0TRxZ
Te8p7OUr/1H3mkSF51Q4q4mCmK3R4lFIYkmv7bGKXgqP41a0J6eSMMkx3fSX
mIJcSUojM5nEEa62qhdJoaMxS3blCQm+3mD5MhkFNfu1f9omkLA7Hmd4ZozC
lEb0DjKGhLfRdbrlBIV85R92HowiwZt172JMURAeUnMvCCch5W29kz1DwfaR
t3pEKAl1D9bFkDkKK7U+8CaDSGyx+ma3yzyFqNLLxCkuCTeFaT2TLxQG27SY
1YEkwpq6ZxYXKUSm1k+aXyPxH6eqcGs=
       "]]},
     Annotation[#, "Charting`Private`Tag$14321#1"]& ]}, {}, {}},
  AspectRatio->NCache[GoldenRatio^(-1), 0.6180339887498948],
  Axes->{True, True},
  AxesLabel->{None, None},
  AxesOrigin->{0.35, 0.7025384694471923},
  DisplayFunction->Identity,
  Frame->{{False, False}, {False, False}},
  FrameLabel->{{None, None}, {None, None}},
  FrameTicks->{{Automatic, Automatic}, {Automatic, Automatic}},
  GridLines->{None, None},
  GridLinesStyle->Directive[
    GrayLevel[0.5, 0.4]],
  ImagePadding->All,
  Method->{
   "DefaultBoundaryStyle" -> Automatic, "DefaultMeshStyle" -> 
    AbsolutePointSize[6], "ScalingFunctions" -> None, 
    "CoordinatesToolOptions" -> {"DisplayFunction" -> ({
        (Part[{{Identity, Identity}, {Identity, Identity}}, 1, 2][#]& )[
         Part[#, 1]], 
        (Part[{{Identity, Identity}, {Identity, Identity}}, 2, 2][#]& )[
         Part[#, 2]]}& ), "CopiedValueFunction" -> ({
        (Part[{{Identity, Identity}, {Identity, Identity}}, 1, 2][#]& )[
         Part[#, 1]], 
        (Part[{{Identity, Identity}, {Identity, Identity}}, 2, 2][#]& )[
         Part[#, 2]]}& )}},
  PlotRange->{{0.35, 1}, {0.7025384694471923, 3.082018045891735}},
  PlotRangeClipping->True,
  PlotRangePadding->{{
     Scaled[0.02], 
     Scaled[0.02]}, {
     Scaled[0.05], 
     Scaled[0.05]}},
  Ticks->{Automatic, Automatic}]], "Output",
 CellChangeTimes->{3.8864822783339324`*^9, 3.886482341722554*^9}]
}, Open  ]],

Cell[BoxData[{
 GraphicsBox[{{{}, {}, 
    TagBox[
     {RGBColor[0.368417, 0.506779, 0.709798], AbsoluteThickness[1.6], Opacity[
      1.], LineBox[CompressedData["
1:eJwVkms01HkAhsdMynXFQetSa1STTeWyQ7p5/021bVQupXTT0Y3ClrV2a2dT
4zK2lGpDmjAT1Trag4ScFSrLrNLNbmkYMS7/mXGZn3sGy9oP73nO8+X59LIP
nfQ/ymQwGNtm9j+Loqru3bwpA2v51RUD5SwqKXM+PzNDhlxJiRu/jEUdkfJ9
botlsPLb+2p2CYuytPEYy70rw93iBQX2+SzqzLPCLWUPZHi4/5VhhIRFUabZ
ve/rZHh3ycrOO4FFvc6PdzUfl0ETYRG+yJdF9aq3VCbvbcJK7eO9xt1Mqpge
k1U6NuOyiUCimc+kdnL6OWakGV7RrbPEkTrUwaqFaVfz5XgrE7HnNzKosY98
fa+YFmSlmV7nrWNQx9fb5nOoj8h66meTFDmN0KWKXZ5mrbA7plu3MWQKDeHt
bEFbK8LMTnDx/b8w1FpcifJtg6HgAntUPInhqa0mf5a1Qf3ByyFbOoEtHAcH
jrUCFimrxnj6E9jxE7sh84wCOk2z3HcHjuOO6fIpV4UCt/QlgsXZWgQ/lz+T
rW9HOd8w6ARDi6O1WfpZee0IefNrCfaM4QsSo/jRtAPrTaqdMx5/wqZVLP/D
kR3YvcEvNt35E4pqb24Ml3WgNVYeJc0aRVL0P6+FqzvhOk2fVNiM4n4Iu6Uy
pxMXbPrtPK+P4LzwEt/IsAuWPsY7NKYjeFZ7qygsrAu6XMe0zZnD8PaqCFP9
3YVHYQGGDfbDoEhsxQ9uNDy9HTwnHg6h+8kxiXUqDfmA7dYDXkNofrdfVz5J
I5lb+nqkaRAeRp+YBQeU+GOdRE8aPQh5Qk6suFaJjoAMj36DQbgv+/b63eUq
xKUtevnozgAmh+RrKy6rkMWLChZtHoD+9IHQwREV1jQ1SOjOfsQ6xi1btVuN
5tV7dtVc7EdhfK0gtVQN88OHlzhx+7GYbbvHZEE3qk5de+JUSDCn1aJOFNMN
q8Rr9TlzCJzb2OUblN04muAq9dmpQQ2zYdPUNz3wU+dslBf0wcRfEvwqtwfG
FivcvEz7IOk8P10+txfko0+pVWgvMtN13csje5ETsyjgQX0P2q9kaBqbevHh
ePCuZk4P5A/9PAx4fWiXOY4LhN3gafOst2f3oYo77M0aUoMILM8VGGggkBWw
1gWoobeM87N9uAalXyqC5NUqvGfuNLj/QgPXpykTRitV6LFNsfb7isAqz9zZ
SqJERODpar0UgubgoM0t5koEOvpKylIJEuJHmVFmSvCmlpwNvUHw2wfI9eYq
YXmn0f0vEUH46nol11CJSuKel3ibYAdv3qFkHSU+Sxy5OruAIE38vuVrDY3C
ku+CZj0nsDnoW/NSSkP0i9ea4hcEU9p7S0NqaMTvs//8yEuCaxPtvzOqaQTq
NLytfkOwYOHgHG4lDZ1tLpviGglc+yrmZRTT8O8kjswugtMvbqRH3qax9pFU
r4gmcHIOrDMS0+BcFHcFqwjWnhJZ5mbQGHfyET/tIXB7lzS79QaNHH6+mWCQ
wLY+es325JlfbRcS5+GZvijdpzuJxml2UH3bCEHXXKPzwgs0tkqNhZSWIJFf
71YVT8Nd1HWof5yAcI3L98XSsIuogGSSoIMt3D92joYBlWrrOzXjDi7WqWdp
DJtFaKenCTQuesMufBr/Afjmbfk=
       "]]},
     Annotation[#, "Charting`Private`Tag$10559#1"]& ]}, {}, {}},
  AspectRatio->NCache[GoldenRatio^(-1), 0.6180339887498948],
  Axes->{True, True},
  AxesLabel->{None, None},
  AxesOrigin->{0.4, 0.7025384680032951},
  DisplayFunction->Identity,
  Frame->{{False, False}, {False, False}},
  FrameLabel->{{None, None}, {None, None}},
  FrameTicks->{{Automatic, Automatic}, {Automatic, Automatic}},
  GridLines->{None, None},
  GridLinesStyle->Directive[
    GrayLevel[0.5, 0.4]],
  ImagePadding->All,
  Method->{
   "DefaultBoundaryStyle" -> Automatic, "DefaultMeshStyle" -> 
    AbsolutePointSize[6], "ScalingFunctions" -> None, 
    "CoordinatesToolOptions" -> {"DisplayFunction" -> ({
        (Part[{{Identity, Identity}, {Identity, Identity}}, 1, 2][#]& )[
         Part[#, 1]], 
        (Part[{{Identity, Identity}, {Identity, Identity}}, 2, 2][#]& )[
         Part[#, 2]]}& ), "CopiedValueFunction" -> ({
        (Part[{{Identity, Identity}, {Identity, Identity}}, 1, 2][#]& )[
         Part[#, 1]], 
        (Part[{{Identity, Identity}, {Identity, Identity}}, 2, 2][#]& )[
         Part[#, 2]]}& )}},
  PlotRange->{{0.4, 1}, {0.7025384680032951, 2.466768611693284}},
  PlotRangeClipping->True,
  PlotRangePadding->{{
     Scaled[0.02], 
     Scaled[0.02]}, {
     Scaled[0.05], 
     Scaled[0.05]}},
  Ticks->{Automatic, Automatic}], "\[IndentingNewLine]", 
 RowBox[{"q", "=", 
  RowBox[{"Abs", "[", 
   RowBox[{
    RowBox[{"fi1", "'"}], "[", "a", "]"}], "]"}]}]}], "Input",
 CellChangeTimes->{{3.88648167836267*^9, 3.8864816918344393`*^9}, 
   3.886481748363668*^9, {3.8864822844592824`*^9, 3.886482286235384*^9}}],

Cell[CellGroupData[{

Cell[BoxData[""], "Input",
 CellChangeTimes->{{3.8864823003461905`*^9, 3.8864823007872148`*^9}}],

Cell[BoxData["2"], "Output",
 CellChangeTimes->{3.886481697289751*^9, 3.886481751667865*^9, 
  3.886482287383457*^9}]
}, Open  ]],

Cell[CellGroupData[{

Cell[BoxData[{"2.4667687242389666`", "\[IndentingNewLine]", 
 RowBox[{
  RowBox[{"x0", "=", "0.4"}], ";"}], "\[IndentingNewLine]", 
 RowBox[{"For", "[", 
  RowBox[{
   RowBox[{"iter", "=", "1"}], ",", " ", 
   RowBox[{"iter", "\[LessEqual]", "30"}], ",", " ", 
   RowBox[{"iter", "++"}], ",", "\[IndentingNewLine]", "\t", 
   RowBox[{
    RowBox[{"x1", "=", 
     RowBox[{"fi1", "[", "x0", "]"}]}], ";", "\[IndentingNewLine]", "\t", 
    RowBox[{"pogr", "=", 
     RowBox[{"Abs", "[", 
      RowBox[{"x0", "-", "x1"}], "]"}]}], ";", "\n", "\t   ", 
    RowBox[{"Print", "[", 
     RowBox[{
     "\"\<\:0448\:0430\:0433: \>\"", ",", "iter", ",", "\"\< x~ \>\"", ",", 
      "x1", ",", "\[IndentingNewLine]", "       ", "\"\< |x0-x1|= \>\"", ",", 
      RowBox[{"Abs", "[", 
       RowBox[{"x0", "-", "x1"}], "]"}], ",", "\[IndentingNewLine]", 
      "        ", "\"\<  |f(x)| =  \>\"", ",", 
      RowBox[{"Abs", "[", 
       RowBox[{"f", "[", "x1", "]"}], "]"}]}], "]"}], ";", 
    "\[IndentingNewLine]", "\n", "\[IndentingNewLine]", 
    RowBox[{"x0", "=", "x1"}], ";"}]}], "\[IndentingNewLine]", "]"}]}], \
"Input",
 CellChangeTimes->{{3.8864818824423256`*^9, 3.886482087291023*^9}, {
  3.8864821290124063`*^9, 3.8864821690346804`*^9}, {3.886482217396453*^9, 
  3.886482220187612*^9}, {3.886482414268696*^9, 3.886482445763494*^9}, {
  3.886482806846104*^9, 3.8864828194788356`*^9}, {3.886482850461605*^9, 
  3.886482852611718*^9}}],

Cell[BoxData["2.4667687242389666`"], "Output",
 CellChangeTimes->{{3.88648203932329*^9, 3.8864820905372086`*^9}, {
   3.886482140731075*^9, 3.8864821699237504`*^9}, 3.8864822227867627`*^9, {
   3.8864824171638613`*^9, 3.886482446321526*^9}, {3.8864828104023237`*^9, 
   3.886482820115878*^9}, 3.8864828537967963`*^9}],

Cell[CellGroupData[{

Cell[BoxData[
 InterpretationBox[
  RowBox[{"\<\"\:0448\:0430\:0433: \"\>", "\[InvisibleSpace]", "1", 
   "\[InvisibleSpace]", "\<\" x~ \"\>", "\[InvisibleSpace]", 
   "0.7467753137554843`", "\[InvisibleSpace]", "\<\" |x0-x1|= \"\>", 
   "\[InvisibleSpace]", "0.3467753137554843`", 
   "\[InvisibleSpace]", "\<\"  |f(x)| =  \"\>", "\[InvisibleSpace]", 
   "2.2747763813946005`"}],
  SequenceForm[
  "\:0448\:0430\:0433: ", 1, " x~ ", 0.7467753137554843, " |x0-x1|= ", 
   0.3467753137554843, "  |f(x)| =  ", 2.2747763813946005`],
  Editable->False]], "Print",
 CellChangeTimes->{{3.886482039348275*^9, 3.8864820905412083`*^9}, {
   3.8864821407380753`*^9, 3.886482169925742*^9}, 3.8864822227897635`*^9, {
   3.8864824171688933`*^9, 3.886482446325551*^9}, {3.886482810405322*^9, 
   3.886482820118886*^9}, 3.886482853799796*^9}],

Cell[BoxData[
 InterpretationBox[
  RowBox[{"\<\"\:0448\:0430\:0433: \"\>", "\[InvisibleSpace]", "2", 
   "\[InvisibleSpace]", "\<\" x~ \"\>", "\[InvisibleSpace]", 
   "1.3103827731468383`", "\[InvisibleSpace]", "\<\" |x0-x1|= \"\>", 
   "\[InvisibleSpace]", "0.5636074593913539`", 
   "\[InvisibleSpace]", "\<\"  |f(x)| =  \"\>", "\[InvisibleSpace]", 
   "4.5822373277530355`"}],
  SequenceForm[
  "\:0448\:0430\:0433: ", 2, " x~ ", 1.3103827731468383`, " |x0-x1|= ", 
   0.5636074593913539, "  |f(x)| =  ", 4.5822373277530355`],
  Editable->False]], "Print",
 CellChangeTimes->{{3.886482039348275*^9, 3.8864820905412083`*^9}, {
   3.8864821407380753`*^9, 3.886482169925742*^9}, 3.8864822227897635`*^9, {
   3.8864824171688933`*^9, 3.886482446325551*^9}, {3.886482810405322*^9, 
   3.886482820118886*^9}, 3.8864828538018093`*^9}],

Cell[BoxData[
 InterpretationBox[
  RowBox[{"\<\"\:0448\:0430\:0433: \"\>", "\[InvisibleSpace]", "3", 
   "\[InvisibleSpace]", "\<\" x~ \"\>", "\[InvisibleSpace]", 
   "1.6926707640864591`", "\[InvisibleSpace]", "\<\" |x0-x1|= \"\>", 
   "\[InvisibleSpace]", "0.38228799093962085`", 
   "\[InvisibleSpace]", "\<\"  |f(x)| =  \"\>", "\[InvisibleSpace]", 
   "5.835464310937374`"}],
  SequenceForm[
  "\:0448\:0430\:0433: ", 3, " x~ ", 1.6926707640864591`, " |x0-x1|= ", 
   0.38228799093962085`, "  |f(x)| =  ", 5.835464310937374],
  Editable->False]], "Print",
 CellChangeTimes->{{3.886482039348275*^9, 3.8864820905412083`*^9}, {
   3.8864821407380753`*^9, 3.886482169925742*^9}, 3.8864822227897635`*^9, {
   3.8864824171688933`*^9, 3.886482446325551*^9}, {3.886482810405322*^9, 
   3.886482820118886*^9}, 3.886482853803796*^9}],

Cell[BoxData[
 InterpretationBox[
  RowBox[{"\<\"\:0448\:0430\:0433: \"\>", "\[InvisibleSpace]", "4", 
   "\[InvisibleSpace]", "\<\" x~ \"\>", "\[InvisibleSpace]", 
   "1.7234645326621423`", "\[InvisibleSpace]", "\<\" |x0-x1|= \"\>", 
   "\[InvisibleSpace]", "0.030793768575683167`", 
   "\[InvisibleSpace]", "\<\"  |f(x)| =  \"\>", "\[InvisibleSpace]", 
   "5.923805303421435`"}],
  SequenceForm[
  "\:0448\:0430\:0433: ", 4, " x~ ", 1.7234645326621423`, " |x0-x1|= ", 
   0.030793768575683167`, "  |f(x)| =  ", 5.923805303421435],
  Editable->False]], "Print",
 CellChangeTimes->{{3.886482039348275*^9, 3.8864820905412083`*^9}, {
   3.8864821407380753`*^9, 3.886482169925742*^9}, 3.8864822227897635`*^9, {
   3.8864824171688933`*^9, 3.886482446325551*^9}, {3.886482810405322*^9, 
   3.886482820118886*^9}, 3.886482853806796*^9}],

Cell[BoxData[
 InterpretationBox[
  RowBox[{"\<\"\:0448\:0430\:0433: \"\>", "\[InvisibleSpace]", "5", 
   "\[InvisibleSpace]", "\<\" x~ \"\>", "\[InvisibleSpace]", 
   "1.7185678072386608`", "\[InvisibleSpace]", "\<\" |x0-x1|= \"\>", 
   "\[InvisibleSpace]", "0.004896725423481518`", 
   "\[InvisibleSpace]", "\<\"  |f(x)| =  \"\>", "\[InvisibleSpace]", 
   "5.909881900858941`"}],
  SequenceForm[
  "\:0448\:0430\:0433: ", 5, " x~ ", 1.7185678072386608`, " |x0-x1|= ", 
   0.004896725423481518, "  |f(x)| =  ", 5.909881900858941],
  Editable->False]], "Print",
 CellChangeTimes->{{3.886482039348275*^9, 3.8864820905412083`*^9}, {
   3.8864821407380753`*^9, 3.886482169925742*^9}, 3.8864822227897635`*^9, {
   3.8864824171688933`*^9, 3.886482446325551*^9}, {3.886482810405322*^9, 
   3.886482820118886*^9}, 3.886482853809803*^9}],

Cell[BoxData[
 InterpretationBox[
  RowBox[{"\<\"\:0448\:0430\:0433: \"\>", "\[InvisibleSpace]", "6", 
   "\[InvisibleSpace]", "\<\" x~ \"\>", "\[InvisibleSpace]", 
   "1.7194204235095738`", "\[InvisibleSpace]", "\<\" |x0-x1|= \"\>", 
   "\[InvisibleSpace]", "0.0008526162709130425`", 
   "\[InvisibleSpace]", "\<\"  |f(x)| =  \"\>", "\[InvisibleSpace]", 
   "5.912309610232261`"}],
  SequenceForm[
  "\:0448\:0430\:0433: ", 6, " x~ ", 1.7194204235095738`, " |x0-x1|= ", 
   0.0008526162709130425, "  |f(x)| =  ", 5.912309610232261],
  Editable->False]], "Print",
 CellChangeTimes->{{3.886482039348275*^9, 3.8864820905412083`*^9}, {
   3.8864821407380753`*^9, 3.886482169925742*^9}, 3.8864822227897635`*^9, {
   3.8864824171688933`*^9, 3.886482446325551*^9}, {3.886482810405322*^9, 
   3.886482820118886*^9}, 3.886482853811796*^9}],

Cell[BoxData[
 InterpretationBox[
  RowBox[{"\<\"\:0448\:0430\:0433: \"\>", "\[InvisibleSpace]", "7", 
   "\[InvisibleSpace]", "\<\" x~ \"\>", "\[InvisibleSpace]", 
   "1.7192739797514585`", "\[InvisibleSpace]", "\<\" |x0-x1|= \"\>", 
   "\[InvisibleSpace]", "0.00014644375811534438`", 
   "\[InvisibleSpace]", "\<\"  |f(x)| =  \"\>", "\[InvisibleSpace]", 
   "5.911892732606499`"}],
  SequenceForm[
  "\:0448\:0430\:0433: ", 7, " x~ ", 1.7192739797514585`, " |x0-x1|= ", 
   0.00014644375811534438`, "  |f(x)| =  ", 5.911892732606499],
  Editable->False]], "Print",
 CellChangeTimes->{{3.886482039348275*^9, 3.8864820905412083`*^9}, {
   3.8864821407380753`*^9, 3.886482169925742*^9}, 3.8864822227897635`*^9, {
   3.8864824171688933`*^9, 3.886482446325551*^9}, {3.886482810405322*^9, 
   3.886482820118886*^9}, 3.8864828538147936`*^9}],

Cell[BoxData[
 InterpretationBox[
  RowBox[{"\<\"\:0448\:0430\:0433: \"\>", "\[InvisibleSpace]", "8", 
   "\[InvisibleSpace]", "\<\" x~ \"\>", "\[InvisibleSpace]", 
   "1.7192991930307189`", "\[InvisibleSpace]", "\<\" |x0-x1|= \"\>", 
   "\[InvisibleSpace]", "0.0000252132792604165`", 
   "\[InvisibleSpace]", "\<\"  |f(x)| =  \"\>", "\[InvisibleSpace]", 
   "5.911964509580104`"}],
  SequenceForm[
  "\:0448\:0430\:0433: ", 8, " x~ ", 1.7192991930307189`, " |x0-x1|= ", 
   0.0000252132792604165, "  |f(x)| =  ", 5.911964509580104],
  Editable->False]], "Print",
 CellChangeTimes->{{3.886482039348275*^9, 3.8864820905412083`*^9}, {
   3.8864821407380753`*^9, 3.886482169925742*^9}, 3.8864822227897635`*^9, {
   3.8864824171688933`*^9, 3.886482446325551*^9}, {3.886482810405322*^9, 
   3.886482820118886*^9}, 3.8864828538167963`*^9}],

Cell[BoxData[
 InterpretationBox[
  RowBox[{"\<\"\:0448\:0430\:0433: \"\>", "\[InvisibleSpace]", "9", 
   "\[InvisibleSpace]", "\<\" x~ \"\>", "\[InvisibleSpace]", 
   "1.7192948538351478`", "\[InvisibleSpace]", "\<\" |x0-x1|= \"\>", 
   "\[InvisibleSpace]", "4.339195571079202`*^-6", 
   "\[InvisibleSpace]", "\<\"  |f(x)| =  \"\>", "\[InvisibleSpace]", 
   "5.911952156879399`"}],
  SequenceForm[
  "\:0448\:0430\:0433: ", 9, " x~ ", 1.7192948538351478`, " |x0-x1|= ", 
   4.339195571079202*^-6, "  |f(x)| =  ", 5.911952156879399],
  Editable->False]], "Print",
 CellChangeTimes->{{3.886482039348275*^9, 3.8864820905412083`*^9}, {
   3.8864821407380753`*^9, 3.886482169925742*^9}, 3.8864822227897635`*^9, {
   3.8864824171688933`*^9, 3.886482446325551*^9}, {3.886482810405322*^9, 
   3.886482820118886*^9}, 3.8864828538197975`*^9}],

Cell[BoxData[
 InterpretationBox[
  RowBox[{"\<\"\:0448\:0430\:0433: \"\>", "\[InvisibleSpace]", "10", 
   "\[InvisibleSpace]", "\<\" x~ \"\>", "\[InvisibleSpace]", 
   "1.7192956006619038`", "\[InvisibleSpace]", "\<\" |x0-x1|= \"\>", 
   "\[InvisibleSpace]", "7.468267559929131`*^-7", 
   "\[InvisibleSpace]", "\<\"  |f(x)| =  \"\>", "\[InvisibleSpace]", 
   "5.911954282927564`"}],
  SequenceForm[
  "\:0448\:0430\:0433: ", 10, " x~ ", 1.7192956006619038`, " |x0-x1|= ", 
   7.468267559929131*^-7, "  |f(x)| =  ", 5.911954282927564],
  Editable->False]], "Print",
 CellChangeTimes->{{3.886482039348275*^9, 3.8864820905412083`*^9}, {
   3.8864821407380753`*^9, 3.886482169925742*^9}, 3.8864822227897635`*^9, {
   3.8864824171688933`*^9, 3.886482446325551*^9}, {3.886482810405322*^9, 
   3.886482820118886*^9}, 3.886482853821797*^9}],

Cell[BoxData[
 InterpretationBox[
  RowBox[{"\<\"\:0448\:0430\:0433: \"\>", "\[InvisibleSpace]", "11", 
   "\[InvisibleSpace]", "\<\" x~ \"\>", "\[InvisibleSpace]", 
   "1.7192954721257736`", "\[InvisibleSpace]", "\<\" |x0-x1|= \"\>", 
   "\[InvisibleSpace]", "1.2853613018393162`*^-7", 
   "\[InvisibleSpace]", "\<\"  |f(x)| =  \"\>", "\[InvisibleSpace]", 
   "5.9119539170141255`"}],
  SequenceForm[
  "\:0448\:0430\:0433: ", 11, " x~ ", 1.7192954721257736`, " |x0-x1|= ", 
   1.2853613018393162`*^-7, "  |f(x)| =  ", 5.9119539170141255`],
  Editable->False]], "Print",
 CellChangeTimes->{{3.886482039348275*^9, 3.8864820905412083`*^9}, {
   3.8864821407380753`*^9, 3.886482169925742*^9}, 3.8864822227897635`*^9, {
   3.8864824171688933`*^9, 3.886482446325551*^9}, {3.886482810405322*^9, 
   3.886482820118886*^9}, 3.886482853824789*^9}],

Cell[BoxData[
 InterpretationBox[
  RowBox[{"\<\"\:0448\:0430\:0433: \"\>", "\[InvisibleSpace]", "12", 
   "\[InvisibleSpace]", "\<\" x~ \"\>", "\[InvisibleSpace]", 
   "1.719295494248135`", "\[InvisibleSpace]", "\<\" |x0-x1|= \"\>", 
   "\[InvisibleSpace]", "2.2122361498233545`*^-8", 
   "\[InvisibleSpace]", "\<\"  |f(x)| =  \"\>", "\[InvisibleSpace]", 
   "5.911953979991512`"}],
  SequenceForm[
  "\:0448\:0430\:0433: ", 12, " x~ ", 1.719295494248135, " |x0-x1|= ", 
   2.2122361498233545`*^-8, "  |f(x)| =  ", 5.911953979991512],
  Editable->False]], "Print",
 CellChangeTimes->{{3.886482039348275*^9, 3.8864820905412083`*^9}, {
   3.8864821407380753`*^9, 3.886482169925742*^9}, 3.8864822227897635`*^9, {
   3.8864824171688933`*^9, 3.886482446325551*^9}, {3.886482810405322*^9, 
   3.886482820118886*^9}, 3.8864828538267965`*^9}],

Cell[BoxData[
 InterpretationBox[
  RowBox[{"\<\"\:0448\:0430\:0433: \"\>", "\[InvisibleSpace]", "13", 
   "\[InvisibleSpace]", "\<\" x~ \"\>", "\[InvisibleSpace]", 
   "1.7192954904406552`", "\[InvisibleSpace]", "\<\" |x0-x1|= \"\>", 
   "\[InvisibleSpace]", "3.8074798869303095`*^-9", 
   "\[InvisibleSpace]", "\<\"  |f(x)| =  \"\>", "\[InvisibleSpace]", 
   "5.911953969152474`"}],
  SequenceForm[
  "\:0448\:0430\:0433: ", 13, " x~ ", 1.7192954904406552`, " |x0-x1|= ", 
   3.8074798869303095`*^-9, "  |f(x)| =  ", 5.911953969152474],
  Editable->False]], "Print",
 CellChangeTimes->{{3.886482039348275*^9, 3.8864820905412083`*^9}, {
   3.8864821407380753`*^9, 3.886482169925742*^9}, 3.8864822227897635`*^9, {
   3.8864824171688933`*^9, 3.886482446325551*^9}, {3.886482810405322*^9, 
   3.886482820118886*^9}, 3.886482853829787*^9}],

Cell[BoxData[
 InterpretationBox[
  RowBox[{"\<\"\:0448\:0430\:0433: \"\>", "\[InvisibleSpace]", "14", 
   "\[InvisibleSpace]", "\<\" x~ \"\>", "\[InvisibleSpace]", 
   "1.7192954910959608`", "\[InvisibleSpace]", "\<\" |x0-x1|= \"\>", 
   "\[InvisibleSpace]", "6.553055875713198`*^-10", 
   "\[InvisibleSpace]", "\<\"  |f(x)| =  \"\>", "\[InvisibleSpace]", 
   "5.911953971017981`"}],
  SequenceForm[
  "\:0448\:0430\:0433: ", 14, " x~ ", 1.7192954910959608`, " |x0-x1|= ", 
   6.553055875713198*^-10, "  |f(x)| =  ", 5.911953971017981],
  Editable->False]], "Print",
 CellChangeTimes->{{3.886482039348275*^9, 3.8864820905412083`*^9}, {
   3.8864821407380753`*^9, 3.886482169925742*^9}, 3.8864822227897635`*^9, {
   3.8864824171688933`*^9, 3.886482446325551*^9}, {3.886482810405322*^9, 
   3.886482820118886*^9}, 3.8864828538317976`*^9}],

Cell[BoxData[
 InterpretationBox[
  RowBox[{"\<\"\:0448\:0430\:0433: \"\>", "\[InvisibleSpace]", "15", 
   "\[InvisibleSpace]", "\<\" x~ \"\>", "\[InvisibleSpace]", 
   "1.7192954909831761`", "\[InvisibleSpace]", "\<\" |x0-x1|= \"\>", 
   "\[InvisibleSpace]", "1.1278467049180563`*^-10", 
   "\[InvisibleSpace]", "\<\"  |f(x)| =  \"\>", "\[InvisibleSpace]", 
   "5.911953970696909`"}],
  SequenceForm[
  "\:0448\:0430\:0433: ", 15, " x~ ", 1.7192954909831761`, " |x0-x1|= ", 
   1.1278467049180563`*^-10, "  |f(x)| =  ", 5.911953970696909],
  Editable->False]], "Print",
 CellChangeTimes->{{3.886482039348275*^9, 3.8864820905412083`*^9}, {
   3.8864821407380753`*^9, 3.886482169925742*^9}, 3.8864822227897635`*^9, {
   3.8864824171688933`*^9, 3.886482446325551*^9}, {3.886482810405322*^9, 
   3.886482820118886*^9}, 3.886482853834798*^9}],

Cell[BoxData[
 InterpretationBox[
  RowBox[{"\<\"\:0448\:0430\:0433: \"\>", "\[InvisibleSpace]", "16", 
   "\[InvisibleSpace]", "\<\" x~ \"\>", "\[InvisibleSpace]", 
   "1.7192954910025875`", "\[InvisibleSpace]", "\<\" |x0-x1|= \"\>", 
   "\[InvisibleSpace]", "1.9411361407151162`*^-11", 
   "\[InvisibleSpace]", "\<\"  |f(x)| =  \"\>", "\[InvisibleSpace]", 
   "5.911953970752169`"}],
  SequenceForm[
  "\:0448\:0430\:0433: ", 16, " x~ ", 1.7192954910025875`, " |x0-x1|= ", 
   1.9411361407151162`*^-11, "  |f(x)| =  ", 5.911953970752169],
  Editable->False]], "Print",
 CellChangeTimes->{{3.886482039348275*^9, 3.8864820905412083`*^9}, {
   3.8864821407380753`*^9, 3.886482169925742*^9}, 3.8864822227897635`*^9, {
   3.8864824171688933`*^9, 3.886482446325551*^9}, {3.886482810405322*^9, 
   3.886482820118886*^9}, 3.8864828538367987`*^9}],

Cell[BoxData[
 InterpretationBox[
  RowBox[{"\<\"\:0448\:0430\:0433: \"\>", "\[InvisibleSpace]", "17", 
   "\[InvisibleSpace]", "\<\" x~ \"\>", "\[InvisibleSpace]", 
   "1.7192954909992466`", "\[InvisibleSpace]", "\<\" |x0-x1|= \"\>", 
   "\[InvisibleSpace]", "3.340883125702021`*^-12", 
   "\[InvisibleSpace]", "\<\"  |f(x)| =  \"\>", "\[InvisibleSpace]", 
   "5.911953970742658`"}],
  SequenceForm[
  "\:0448\:0430\:0433: ", 17, " x~ ", 1.7192954909992466`, " |x0-x1|= ", 
   3.340883125702021*^-12, "  |f(x)| =  ", 5.911953970742658],
  Editable->False]], "Print",
 CellChangeTimes->{{3.886482039348275*^9, 3.8864820905412083`*^9}, {
   3.8864821407380753`*^9, 3.886482169925742*^9}, 3.8864822227897635`*^9, {
   3.8864824171688933`*^9, 3.886482446325551*^9}, {3.886482810405322*^9, 
   3.886482820118886*^9}, 3.8864828538397975`*^9}],

Cell[BoxData[
 InterpretationBox[
  RowBox[{"\<\"\:0448\:0430\:0433: \"\>", "\[InvisibleSpace]", "18", 
   "\[InvisibleSpace]", "\<\" x~ \"\>", "\[InvisibleSpace]", 
   "1.7192954909998217`", "\[InvisibleSpace]", "\<\" |x0-x1|= \"\>", 
   "\[InvisibleSpace]", "5.750955267558311`*^-13", 
   "\[InvisibleSpace]", "\<\"  |f(x)| =  \"\>", "\[InvisibleSpace]", 
   "5.911953970744295`"}],
  SequenceForm[
  "\:0448\:0430\:0433: ", 18, " x~ ", 1.7192954909998217`, " |x0-x1|= ", 
   5.750955267558311*^-13, "  |f(x)| =  ", 5.911953970744295],
  Editable->False]], "Print",
 CellChangeTimes->{{3.886482039348275*^9, 3.8864820905412083`*^9}, {
   3.8864821407380753`*^9, 3.886482169925742*^9}, 3.8864822227897635`*^9, {
   3.8864824171688933`*^9, 3.886482446325551*^9}, {3.886482810405322*^9, 
   3.886482820118886*^9}, 3.886482853842798*^9}],

Cell[BoxData[
 InterpretationBox[
  RowBox[{"\<\"\:0448\:0430\:0433: \"\>", "\[InvisibleSpace]", "19", 
   "\[InvisibleSpace]", "\<\" x~ \"\>", "\[InvisibleSpace]", 
   "1.7192954909997225`", "\[InvisibleSpace]", "\<\" |x0-x1|= \"\>", 
   "\[InvisibleSpace]", "9.9253938401489`*^-14", 
   "\[InvisibleSpace]", "\<\"  |f(x)| =  \"\>", "\[InvisibleSpace]", 
   "5.911953970744012`"}],
  SequenceForm[
  "\:0448\:0430\:0433: ", 19, " x~ ", 1.7192954909997225`, " |x0-x1|= ", 
   9.9253938401489*^-14, "  |f(x)| =  ", 5.911953970744012],
  Editable->False]], "Print",
 CellChangeTimes->{{3.886482039348275*^9, 3.8864820905412083`*^9}, {
   3.8864821407380753`*^9, 3.886482169925742*^9}, 3.8864822227897635`*^9, {
   3.8864824171688933`*^9, 3.886482446325551*^9}, {3.886482810405322*^9, 
   3.886482820118886*^9}, 3.886482853844798*^9}],

Cell[BoxData[
 InterpretationBox[
  RowBox[{"\<\"\:0448\:0430\:0433: \"\>", "\[InvisibleSpace]", "20", 
   "\[InvisibleSpace]", "\<\" x~ \"\>", "\[InvisibleSpace]", 
   "1.7192954909997396`", "\[InvisibleSpace]", "\<\" |x0-x1|= \"\>", 
   "\[InvisibleSpace]", "1.709743457922741`*^-14", 
   "\[InvisibleSpace]", "\<\"  |f(x)| =  \"\>", "\[InvisibleSpace]", 
   "5.911953970744062`"}],
  SequenceForm[
  "\:0448\:0430\:0433: ", 20, " x~ ", 1.7192954909997396`, " |x0-x1|= ", 
   1.709743457922741*^-14, "  |f(x)| =  ", 5.911953970744062],
  Editable->False]], "Print",
 CellChangeTimes->{{3.886482039348275*^9, 3.8864820905412083`*^9}, {
   3.8864821407380753`*^9, 3.886482169925742*^9}, 3.8864822227897635`*^9, {
   3.8864824171688933`*^9, 3.886482446325551*^9}, {3.886482810405322*^9, 
   3.886482820118886*^9}, 3.88648285384779*^9}],

Cell[BoxData[
 InterpretationBox[
  RowBox[{"\<\"\:0448\:0430\:0433: \"\>", "\[InvisibleSpace]", "21", 
   "\[InvisibleSpace]", "\<\" x~ \"\>", "\[InvisibleSpace]", 
   "1.7192954909997367`", "\[InvisibleSpace]", "\<\" |x0-x1|= \"\>", 
   "\[InvisibleSpace]", "2.886579864025407`*^-15", 
   "\[InvisibleSpace]", "\<\"  |f(x)| =  \"\>", "\[InvisibleSpace]", 
   "5.911953970744053`"}],
  SequenceForm[
  "\:0448\:0430\:0433: ", 21, " x~ ", 1.7192954909997367`, " |x0-x1|= ", 
   2.886579864025407*^-15, "  |f(x)| =  ", 5.911953970744053],
  Editable->False]], "Print",
 CellChangeTimes->{{3.886482039348275*^9, 3.8864820905412083`*^9}, {
   3.8864821407380753`*^9, 3.886482169925742*^9}, 3.8864822227897635`*^9, {
   3.8864824171688933`*^9, 3.886482446325551*^9}, {3.886482810405322*^9, 
   3.886482820118886*^9}, 3.886482853849798*^9}],

Cell[BoxData[
 InterpretationBox[
  RowBox[{"\<\"\:0448\:0430\:0433: \"\>", "\[InvisibleSpace]", "22", 
   "\[InvisibleSpace]", "\<\" x~ \"\>", "\[InvisibleSpace]", 
   "1.7192954909997373`", "\[InvisibleSpace]", "\<\" |x0-x1|= \"\>", 
   "\[InvisibleSpace]", "6.661338147750939`*^-16", 
   "\[InvisibleSpace]", "\<\"  |f(x)| =  \"\>", "\[InvisibleSpace]", 
   "5.9119539707440545`"}],
  SequenceForm[
  "\:0448\:0430\:0433: ", 22, " x~ ", 1.7192954909997373`, " |x0-x1|= ", 
   6.661338147750939*^-16, "  |f(x)| =  ", 5.9119539707440545`],
  Editable->False]], "Print",
 CellChangeTimes->{{3.886482039348275*^9, 3.8864820905412083`*^9}, {
   3.8864821407380753`*^9, 3.886482169925742*^9}, 3.8864822227897635`*^9, {
   3.8864824171688933`*^9, 3.886482446325551*^9}, {3.886482810405322*^9, 
   3.886482820118886*^9}, 3.886482853851802*^9}],

Cell[BoxData[
 InterpretationBox[
  RowBox[{"\<\"\:0448\:0430\:0433: \"\>", "\[InvisibleSpace]", "23", 
   "\[InvisibleSpace]", "\<\" x~ \"\>", "\[InvisibleSpace]", 
   "1.719295490999737`", "\[InvisibleSpace]", "\<\" |x0-x1|= \"\>", 
   "\[InvisibleSpace]", "2.220446049250313`*^-16", 
   "\[InvisibleSpace]", "\<\"  |f(x)| =  \"\>", "\[InvisibleSpace]", 
   "5.9119539707440545`"}],
  SequenceForm[
  "\:0448\:0430\:0433: ", 23, " x~ ", 1.719295490999737, " |x0-x1|= ", 
   2.220446049250313*^-16, "  |f(x)| =  ", 5.9119539707440545`],
  Editable->False]], "Print",
 CellChangeTimes->{{3.886482039348275*^9, 3.8864820905412083`*^9}, {
   3.8864821407380753`*^9, 3.886482169925742*^9}, 3.8864822227897635`*^9, {
   3.8864824171688933`*^9, 3.886482446325551*^9}, {3.886482810405322*^9, 
   3.886482820118886*^9}, 3.886482853854799*^9}],

Cell[BoxData[
 InterpretationBox[
  RowBox[{"\<\"\:0448\:0430\:0433: \"\>", "\[InvisibleSpace]", "24", 
   "\[InvisibleSpace]", "\<\" x~ \"\>", "\[InvisibleSpace]", 
   "1.719295490999737`", "\[InvisibleSpace]", "\<\" |x0-x1|= \"\>", 
   "\[InvisibleSpace]", "0.`", "\[InvisibleSpace]", "\<\"  |f(x)| =  \"\>", 
   "\[InvisibleSpace]", "5.9119539707440545`"}],
  SequenceForm[
  "\:0448\:0430\:0433: ", 24, " x~ ", 1.719295490999737, " |x0-x1|= ", 0., 
   "  |f(x)| =  ", 5.9119539707440545`],
  Editable->False]], "Print",
 CellChangeTimes->{{3.886482039348275*^9, 3.8864820905412083`*^9}, {
   3.8864821407380753`*^9, 3.886482169925742*^9}, 3.8864822227897635`*^9, {
   3.8864824171688933`*^9, 3.886482446325551*^9}, {3.886482810405322*^9, 
   3.886482820118886*^9}, 3.886482853856799*^9}],

Cell[BoxData[
 InterpretationBox[
  RowBox[{"\<\"\:0448\:0430\:0433: \"\>", "\[InvisibleSpace]", "25", 
   "\[InvisibleSpace]", "\<\" x~ \"\>", "\[InvisibleSpace]", 
   "1.719295490999737`", "\[InvisibleSpace]", "\<\" |x0-x1|= \"\>", 
   "\[InvisibleSpace]", "0.`", "\[InvisibleSpace]", "\<\"  |f(x)| =  \"\>", 
   "\[InvisibleSpace]", "5.9119539707440545`"}],
  SequenceForm[
  "\:0448\:0430\:0433: ", 25, " x~ ", 1.719295490999737, " |x0-x1|= ", 0., 
   "  |f(x)| =  ", 5.9119539707440545`],
  Editable->False]], "Print",
 CellChangeTimes->{{3.886482039348275*^9, 3.8864820905412083`*^9}, {
   3.8864821407380753`*^9, 3.886482169925742*^9}, 3.8864822227897635`*^9, {
   3.8864824171688933`*^9, 3.886482446325551*^9}, {3.886482810405322*^9, 
   3.886482820118886*^9}, 3.8864828538587904`*^9}],

Cell[BoxData[
 InterpretationBox[
  RowBox[{"\<\"\:0448\:0430\:0433: \"\>", "\[InvisibleSpace]", "26", 
   "\[InvisibleSpace]", "\<\" x~ \"\>", "\[InvisibleSpace]", 
   "1.719295490999737`", "\[InvisibleSpace]", "\<\" |x0-x1|= \"\>", 
   "\[InvisibleSpace]", "0.`", "\[InvisibleSpace]", "\<\"  |f(x)| =  \"\>", 
   "\[InvisibleSpace]", "5.9119539707440545`"}],
  SequenceForm[
  "\:0448\:0430\:0433: ", 26, " x~ ", 1.719295490999737, " |x0-x1|= ", 0., 
   "  |f(x)| =  ", 5.9119539707440545`],
  Editable->False]], "Print",
 CellChangeTimes->{{3.886482039348275*^9, 3.8864820905412083`*^9}, {
   3.8864821407380753`*^9, 3.886482169925742*^9}, 3.8864822227897635`*^9, {
   3.8864824171688933`*^9, 3.886482446325551*^9}, {3.886482810405322*^9, 
   3.886482820118886*^9}, 3.886482853860799*^9}],

Cell[BoxData[
 InterpretationBox[
  RowBox[{"\<\"\:0448\:0430\:0433: \"\>", "\[InvisibleSpace]", "27", 
   "\[InvisibleSpace]", "\<\" x~ \"\>", "\[InvisibleSpace]", 
   "1.719295490999737`", "\[InvisibleSpace]", "\<\" |x0-x1|= \"\>", 
   "\[InvisibleSpace]", "0.`", "\[InvisibleSpace]", "\<\"  |f(x)| =  \"\>", 
   "\[InvisibleSpace]", "5.9119539707440545`"}],
  SequenceForm[
  "\:0448\:0430\:0433: ", 27, " x~ ", 1.719295490999737, " |x0-x1|= ", 0., 
   "  |f(x)| =  ", 5.9119539707440545`],
  Editable->False]], "Print",
 CellChangeTimes->{{3.886482039348275*^9, 3.8864820905412083`*^9}, {
   3.8864821407380753`*^9, 3.886482169925742*^9}, 3.8864822227897635`*^9, {
   3.8864824171688933`*^9, 3.886482446325551*^9}, {3.886482810405322*^9, 
   3.886482820118886*^9}, 3.886482853863799*^9}],

Cell[BoxData[
 InterpretationBox[
  RowBox[{"\<\"\:0448\:0430\:0433: \"\>", "\[InvisibleSpace]", "28", 
   "\[InvisibleSpace]", "\<\" x~ \"\>", "\[InvisibleSpace]", 
   "1.719295490999737`", "\[InvisibleSpace]", "\<\" |x0-x1|= \"\>", 
   "\[InvisibleSpace]", "0.`", "\[InvisibleSpace]", "\<\"  |f(x)| =  \"\>", 
   "\[InvisibleSpace]", "5.9119539707440545`"}],
  SequenceForm[
  "\:0448\:0430\:0433: ", 28, " x~ ", 1.719295490999737, " |x0-x1|= ", 0., 
   "  |f(x)| =  ", 5.9119539707440545`],
  Editable->False]], "Print",
 CellChangeTimes->{{3.886482039348275*^9, 3.8864820905412083`*^9}, {
   3.8864821407380753`*^9, 3.886482169925742*^9}, 3.8864822227897635`*^9, {
   3.8864824171688933`*^9, 3.886482446325551*^9}, {3.886482810405322*^9, 
   3.886482820118886*^9}, 3.886482853865799*^9}],

Cell[BoxData[
 InterpretationBox[
  RowBox[{"\<\"\:0448\:0430\:0433: \"\>", "\[InvisibleSpace]", "29", 
   "\[InvisibleSpace]", "\<\" x~ \"\>", "\[InvisibleSpace]", 
   "1.719295490999737`", "\[InvisibleSpace]", "\<\" |x0-x1|= \"\>", 
   "\[InvisibleSpace]", "0.`", "\[InvisibleSpace]", "\<\"  |f(x)| =  \"\>", 
   "\[InvisibleSpace]", "5.9119539707440545`"}],
  SequenceForm[
  "\:0448\:0430\:0433: ", 29, " x~ ", 1.719295490999737, " |x0-x1|= ", 0., 
   "  |f(x)| =  ", 5.9119539707440545`],
  Editable->False]], "Print",
 CellChangeTimes->{{3.886482039348275*^9, 3.8864820905412083`*^9}, {
   3.8864821407380753`*^9, 3.886482169925742*^9}, 3.8864822227897635`*^9, {
   3.8864824171688933`*^9, 3.886482446325551*^9}, {3.886482810405322*^9, 
   3.886482820118886*^9}, 3.8864828538678007`*^9}],

Cell[BoxData[
 InterpretationBox[
  RowBox[{"\<\"\:0448\:0430\:0433: \"\>", "\[InvisibleSpace]", "30", 
   "\[InvisibleSpace]", "\<\" x~ \"\>", "\[InvisibleSpace]", 
   "1.719295490999737`", "\[InvisibleSpace]", "\<\" |x0-x1|= \"\>", 
   "\[InvisibleSpace]", "0.`", "\[InvisibleSpace]", "\<\"  |f(x)| =  \"\>", 
   "\[InvisibleSpace]", "5.9119539707440545`"}],
  SequenceForm[
  "\:0448\:0430\:0433: ", 30, " x~ ", 1.719295490999737, " |x0-x1|= ", 0., 
   "  |f(x)| =  ", 5.9119539707440545`],
  Editable->False]], "Print",
 CellChangeTimes->{{3.886482039348275*^9, 3.8864820905412083`*^9}, {
   3.8864821407380753`*^9, 3.886482169925742*^9}, 3.8864822227897635`*^9, {
   3.8864824171688933`*^9, 3.886482446325551*^9}, {3.886482810405322*^9, 
   3.886482820118886*^9}, 3.886482853870795*^9}]
}, Open  ]]
}, Open  ]],

Cell[BoxData[""], "Input",
 CellChangeTimes->{{3.886481341825453*^9, 3.8864813425064907`*^9}}],

Cell[BoxData[""], "Input",
 CellChangeTimes->{{3.8864814776262083`*^9, 3.886481477635208*^9}}],

Cell[BoxData["\[IndentingNewLine]"], "Input",
 CellChangeTimes->{{3.886481213194098*^9, 3.886481215690239*^9}}]
},
WindowSize->{942, 981},
WindowMargins->{{Automatic, 2}, {Automatic, 0}},
FrontEndVersion->"11.0 for Microsoft Windows (64-bit) (September 21, 2016)",
StyleDefinitions->"Default.nb"
]
(* End of Notebook Content *)

(* Internal cache information *)
(*CellTagsOutline
CellTagsIndex->{}
*)
(*CellTagsIndex
CellTagsIndex->{}
*)
(*NotebookFileOutline
Notebook[{
Cell[558, 20, 509, 16, 105, "Input"],
Cell[CellGroupData[{
Cell[1092, 40, 7922, 157, 225, InheritFromParent],
Cell[9017, 199, 6995, 128, 238, "Output"],
Cell[16015, 329, 8392, 153, 238, "Output"]
}, Open  ]],
Cell[24422, 485, 92, 1, 30, InheritFromParent],
Cell[24517, 488, 92, 1, 30, InheritFromParent],
Cell[24612, 491, 94, 1, 30, InheritFromParent],
Cell[24709, 494, 118, 2, 30, InheritFromParent],
Cell[24830, 498, 94, 1, 30, InheritFromParent],
Cell[CellGroupData[{
Cell[24949, 503, 836, 19, 144, InheritFromParent],
Cell[25788, 524, 3277, 67, 236, "Output"]
}, Open  ]],
Cell[29080, 594, 3478, 72, 119, InheritFromParent],
Cell[CellGroupData[{
Cell[32583, 670, 96, 1, 30, InheritFromParent],
Cell[32682, 673, 117, 2, 30, "Output"]
}, Open  ]],
Cell[CellGroupData[{
Cell[32836, 680, 1433, 30, 330, InheritFromParent],
Cell[34272, 712, 317, 4, 30, "Output"],
Cell[CellGroupData[{
Cell[34614, 720, 827, 15, 22, "Print"],
Cell[35444, 737, 830, 15, 22, "Print"],
Cell[36277, 754, 828, 15, 22, "Print"],
Cell[37108, 771, 830, 15, 22, "Print"],
Cell[37941, 788, 829, 15, 22, "Print"],
Cell[38773, 805, 831, 15, 22, "Print"],
Cell[39607, 822, 836, 15, 22, "Print"],
Cell[40446, 839, 833, 15, 22, "Print"],
Cell[41282, 856, 833, 15, 24, "Print"],
Cell[42118, 873, 833, 15, 24, "Print"],
Cell[42954, 890, 839, 15, 24, "Print"],
Cell[43796, 907, 835, 15, 24, "Print"],
Cell[44634, 924, 836, 15, 24, "Print"],
Cell[45473, 941, 837, 15, 24, "Print"],
Cell[46313, 958, 838, 15, 24, "Print"],
Cell[47154, 975, 840, 15, 24, "Print"],
Cell[47997, 992, 837, 15, 24, "Print"],
Cell[48837, 1009, 835, 15, 24, "Print"],
Cell[49675, 1026, 831, 15, 24, "Print"],
Cell[50509, 1043, 834, 15, 24, "Print"],
Cell[51346, 1060, 835, 15, 24, "Print"],
Cell[52184, 1077, 838, 15, 24, "Print"],
Cell[53025, 1094, 835, 15, 24, "Print"],
Cell[53863, 1111, 791, 14, 22, "Print"],
Cell[54657, 1127, 793, 14, 22, "Print"],
Cell[55453, 1143, 791, 14, 22, "Print"],
Cell[56247, 1159, 791, 14, 22, "Print"],
Cell[57041, 1175, 791, 14, 22, "Print"],
Cell[57835, 1191, 793, 14, 22, "Print"],
Cell[58631, 1207, 791, 14, 22, "Print"]
}, Open  ]]
}, Open  ]],
Cell[59449, 1225, 94, 1, 30, InheritFromParent],
Cell[59546, 1228, 94, 1, 30, InheritFromParent],
Cell[59643, 1231, 111, 1, 50, InheritFromParent]
}
]
*)

(* End of internal cache information *)

